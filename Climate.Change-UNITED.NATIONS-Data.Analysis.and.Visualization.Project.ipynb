{
 "cells": [
  {
   "cell_type": "markdown",
   "metadata": {},
   "source": [
    "# Introduction and Definitions\n",
    "Climate change is a change in the statistical distribution of weather patterns when that change lasts for an extended period of time (i.e., decades to millions of years).\n",
    "\n",
    "“Global warming” refers to the long-term warming of the planet. Global temperature shows a well-documented rise since the early 20th century and most notably since the late 1970s. Worldwide, since 1880 the average surface temperature has gone up by about 0.8 °C (1.4 °F), relative to the mid-20th-century baseline (of 1951-1980). \n",
    "\n",
    "Feature Definitions\n",
    "\n",
    "Fuel oil/Diesel Oil : is a fraction obtained from petroleum distillation, either as a distillate or a residue.\n",
    "\n",
    "Carbond Dioxide Emission : Carbon dioxide (CO2) is an important trace gas in Earth's atmosphere currently constituting about 0.04% (400 parts per million) of the atmosphere. Despite its relatively small concentration, CO2 is a potent greenhouse gas and plays a vital role in regulating Earth's surface temperature through radiative forcing and the greenhouse effect."
   ]
  },
  {
   "cell_type": "markdown",
   "metadata": {},
   "source": [
    "# About The Project\n",
    "\n",
    "In this project,I tried to answer some global questions about Climate Change issue.I investigated to Climate Change datasets for identifying relations between countries and related CO2 emission variables.\n",
    "\n",
    "By the way, this project is just a portfolio working for my Data Science skill in Python.So please do not evaluate to the results  seriously from a reality perspective.I am not a geology/meteorology or political expert.I am a industrial engineer.\n",
    "\n",
    "In this project, I will do EDA analysis,detailed and complex data queries ,data manipulations-transforms and the finally visualization reports as summary of the results."
   ]
  },
  {
   "cell_type": "markdown",
   "metadata": {},
   "source": [
    "# Collecting Data\n",
    "\n",
    "Firstly I have looked to World Bank's data website for climate change datasets.But when I checked to datasets ,I identified to multiple null values.After then I made a research for the project issue in Google and USA government web sites legally.But the datasets was too complex (needed to assist from a expert) for a lean data analysis and I also hesitated to copyright permissions.After all finally, I decided to collect to the datasets from United Nations Data Website."
   ]
  },
  {
   "cell_type": "code",
   "execution_count": 1,
   "metadata": {
    "collapsed": true
   },
   "outputs": [],
   "source": [
    "#AUTHOR : Osman EMRE\n",
    "\n",
    "\n",
    "#Importing package libraries.\n",
    "import numpy as np\n",
    "import pandas as pd\n",
    "import matplotlib.pyplot as plt\n",
    "\n",
    "pd.set_option('display.mpl_style', 'default')\n",
    "%matplotlib inline"
   ]
  },
  {
   "cell_type": "code",
   "execution_count": 2,
   "metadata": {
    "collapsed": true
   },
   "outputs": [],
   "source": [
    "#Reading and loading datasets\n",
    "\n",
    "gas_diesel = pd.read_csv(r'C:\\Users\\osman\\Desktop\\data scientist\\pandas portfolio\\gas_diesel.csv')\n",
    "carbon_ems = pd.read_csv(r'C:\\Users\\osman\\Desktop\\data scientist\\pandas portfolio\\carbon.csv')"
   ]
  },
  {
   "cell_type": "code",
   "execution_count": 3,
   "metadata": {
    "collapsed": true
   },
   "outputs": [],
   "source": [
    "#Filtering the Gas oil/Diesel oil  dataset  with production,final consumption and transformation values.\n",
    "gas_diesel_df = gas_diesel[(gas_diesel['Commodity - Transaction'] == 'Gas Oil/ Diesel Oil - Final consumption') | \n",
    "                           (gas_diesel['Commodity - Transaction']\n",
    "                            ==  'Gas Oil/ Diesel Oil - Production') | (gas_diesel['Commodity - Transaction']\n",
    "                                                                == 'Gas Oil/ Diesel Oil - Transformation') ]"
   ]
  },
  {
   "cell_type": "code",
   "execution_count": 4,
   "metadata": {
    "collapsed": false
   },
   "outputs": [
    {
     "data": {
      "text/plain": [
       "array(['Gas Oil/ Diesel Oil - Transformation',\n",
       "       'Gas Oil/ Diesel Oil - Final consumption',\n",
       "       'Gas Oil/ Diesel Oil - Production'], dtype=object)"
      ]
     },
     "execution_count": 4,
     "metadata": {},
     "output_type": "execute_result"
    }
   ],
   "source": [
    "#Bring the filtered values\n",
    "gas_diesel_df['Commodity - Transaction'].unique()"
   ]
  },
  {
   "cell_type": "code",
   "execution_count": 5,
   "metadata": {
    "collapsed": false
   },
   "outputs": [
    {
     "data": {
      "text/html": [
       "<div>\n",
       "<table border=\"1\" class=\"dataframe\">\n",
       "  <thead>\n",
       "    <tr style=\"text-align: right;\">\n",
       "      <th></th>\n",
       "      <th>Country or Area</th>\n",
       "      <th>Commodity - Transaction</th>\n",
       "      <th>Year</th>\n",
       "      <th>Unit</th>\n",
       "      <th>Quantity</th>\n",
       "      <th>Quantity Footnotes</th>\n",
       "    </tr>\n",
       "  </thead>\n",
       "  <tbody>\n",
       "    <tr>\n",
       "      <th>24</th>\n",
       "      <td>Afghanistan</td>\n",
       "      <td>Gas Oil/ Diesel Oil - Transformation</td>\n",
       "      <td>2013</td>\n",
       "      <td>Metric tons,  thousand</td>\n",
       "      <td>20</td>\n",
       "      <td>1</td>\n",
       "    </tr>\n",
       "    <tr>\n",
       "      <th>25</th>\n",
       "      <td>Afghanistan</td>\n",
       "      <td>Gas Oil/ Diesel Oil - Transformation</td>\n",
       "      <td>2012</td>\n",
       "      <td>Metric tons,  thousand</td>\n",
       "      <td>20</td>\n",
       "      <td>NaN</td>\n",
       "    </tr>\n",
       "    <tr>\n",
       "      <th>26</th>\n",
       "      <td>Afghanistan</td>\n",
       "      <td>Gas Oil/ Diesel Oil - Transformation</td>\n",
       "      <td>2011</td>\n",
       "      <td>Metric tons,  thousand</td>\n",
       "      <td>20</td>\n",
       "      <td>NaN</td>\n",
       "    </tr>\n",
       "    <tr>\n",
       "      <th>27</th>\n",
       "      <td>Afghanistan</td>\n",
       "      <td>Gas Oil/ Diesel Oil - Transformation</td>\n",
       "      <td>2010</td>\n",
       "      <td>Metric tons,  thousand</td>\n",
       "      <td>20</td>\n",
       "      <td>NaN</td>\n",
       "    </tr>\n",
       "    <tr>\n",
       "      <th>28</th>\n",
       "      <td>Afghanistan</td>\n",
       "      <td>Gas Oil/ Diesel Oil - Transformation</td>\n",
       "      <td>2009</td>\n",
       "      <td>Metric tons,  thousand</td>\n",
       "      <td>20</td>\n",
       "      <td>1</td>\n",
       "    </tr>\n",
       "  </tbody>\n",
       "</table>\n",
       "</div>"
      ],
      "text/plain": [
       "   Country or Area               Commodity - Transaction  Year  \\\n",
       "24     Afghanistan  Gas Oil/ Diesel Oil - Transformation  2013   \n",
       "25     Afghanistan  Gas Oil/ Diesel Oil - Transformation  2012   \n",
       "26     Afghanistan  Gas Oil/ Diesel Oil - Transformation  2011   \n",
       "27     Afghanistan  Gas Oil/ Diesel Oil - Transformation  2010   \n",
       "28     Afghanistan  Gas Oil/ Diesel Oil - Transformation  2009   \n",
       "\n",
       "                      Unit  Quantity  Quantity Footnotes  \n",
       "24  Metric tons,  thousand        20                   1  \n",
       "25  Metric tons,  thousand        20                 NaN  \n",
       "26  Metric tons,  thousand        20                 NaN  \n",
       "27  Metric tons,  thousand        20                 NaN  \n",
       "28  Metric tons,  thousand        20                   1  "
      ]
     },
     "execution_count": 5,
     "metadata": {},
     "output_type": "execute_result"
    }
   ],
   "source": [
    "#Preview the Gas Oil / Diesel Oil dataset\n",
    "gas_diesel_df.head()"
   ]
  },
  {
   "cell_type": "code",
   "execution_count": 6,
   "metadata": {
    "collapsed": false
   },
   "outputs": [
    {
     "data": {
      "text/html": [
       "<div>\n",
       "<table border=\"1\" class=\"dataframe\">\n",
       "  <thead>\n",
       "    <tr style=\"text-align: right;\">\n",
       "      <th></th>\n",
       "      <th>Country or Area</th>\n",
       "      <th>Commodity - Transaction</th>\n",
       "      <th>Year</th>\n",
       "      <th>Unit</th>\n",
       "      <th>Quantity</th>\n",
       "    </tr>\n",
       "  </thead>\n",
       "  <tbody>\n",
       "    <tr>\n",
       "      <th>24</th>\n",
       "      <td>Afghanistan</td>\n",
       "      <td>Gas Oil/ Diesel Oil - Transformation</td>\n",
       "      <td>2013</td>\n",
       "      <td>Metric tons,  thousand</td>\n",
       "      <td>20</td>\n",
       "    </tr>\n",
       "    <tr>\n",
       "      <th>25</th>\n",
       "      <td>Afghanistan</td>\n",
       "      <td>Gas Oil/ Diesel Oil - Transformation</td>\n",
       "      <td>2012</td>\n",
       "      <td>Metric tons,  thousand</td>\n",
       "      <td>20</td>\n",
       "    </tr>\n",
       "    <tr>\n",
       "      <th>26</th>\n",
       "      <td>Afghanistan</td>\n",
       "      <td>Gas Oil/ Diesel Oil - Transformation</td>\n",
       "      <td>2011</td>\n",
       "      <td>Metric tons,  thousand</td>\n",
       "      <td>20</td>\n",
       "    </tr>\n",
       "    <tr>\n",
       "      <th>27</th>\n",
       "      <td>Afghanistan</td>\n",
       "      <td>Gas Oil/ Diesel Oil - Transformation</td>\n",
       "      <td>2010</td>\n",
       "      <td>Metric tons,  thousand</td>\n",
       "      <td>20</td>\n",
       "    </tr>\n",
       "    <tr>\n",
       "      <th>28</th>\n",
       "      <td>Afghanistan</td>\n",
       "      <td>Gas Oil/ Diesel Oil - Transformation</td>\n",
       "      <td>2009</td>\n",
       "      <td>Metric tons,  thousand</td>\n",
       "      <td>20</td>\n",
       "    </tr>\n",
       "  </tbody>\n",
       "</table>\n",
       "</div>"
      ],
      "text/plain": [
       "   Country or Area               Commodity - Transaction  Year  \\\n",
       "24     Afghanistan  Gas Oil/ Diesel Oil - Transformation  2013   \n",
       "25     Afghanistan  Gas Oil/ Diesel Oil - Transformation  2012   \n",
       "26     Afghanistan  Gas Oil/ Diesel Oil - Transformation  2011   \n",
       "27     Afghanistan  Gas Oil/ Diesel Oil - Transformation  2010   \n",
       "28     Afghanistan  Gas Oil/ Diesel Oil - Transformation  2009   \n",
       "\n",
       "                      Unit  Quantity  \n",
       "24  Metric tons,  thousand        20  \n",
       "25  Metric tons,  thousand        20  \n",
       "26  Metric tons,  thousand        20  \n",
       "27  Metric tons,  thousand        20  \n",
       "28  Metric tons,  thousand        20  "
      ]
     },
     "execution_count": 6,
     "metadata": {},
     "output_type": "execute_result"
    }
   ],
   "source": [
    "#Delete the redundant column value\n",
    "gdf = gas_diesel_df.drop('Quantity Footnotes',axis = 1)\n",
    "gdf.head()"
   ]
  },
  {
   "cell_type": "markdown",
   "metadata": {},
   "source": [
    "# EDA Analysis\n",
    "\n",
    "The goal of EDA is to discover patterns in data.EDA was created by statistician John Tukey.EDA's method is split-apply-combine dataset.For this goal I used to lists,lists of objects and dataframes and its functions in Pandas package.I used to this method to answer for general climate change questions between Countries and CO2 emission and Gas-Diesel oil variables."
   ]
  },
  {
   "cell_type": "code",
   "execution_count": 7,
   "metadata": {
    "collapsed": false
   },
   "outputs": [
    {
     "data": {
      "text/html": [
       "<div>\n",
       "<table border=\"1\" class=\"dataframe\">\n",
       "  <thead>\n",
       "    <tr style=\"text-align: right;\">\n",
       "      <th></th>\n",
       "      <th>Quantity</th>\n",
       "    </tr>\n",
       "    <tr>\n",
       "      <th>Country or Area</th>\n",
       "      <th></th>\n",
       "    </tr>\n",
       "  </thead>\n",
       "  <tbody>\n",
       "    <tr>\n",
       "      <th>United States</th>\n",
       "      <td>8518140.000</td>\n",
       "    </tr>\n",
       "    <tr>\n",
       "      <th>China</th>\n",
       "      <td>4017168.252</td>\n",
       "    </tr>\n",
       "    <tr>\n",
       "      <th>Japan</th>\n",
       "      <td>2615258.000</td>\n",
       "    </tr>\n",
       "    <tr>\n",
       "      <th>Germany</th>\n",
       "      <td>2363351.000</td>\n",
       "    </tr>\n",
       "    <tr>\n",
       "      <th>India</th>\n",
       "      <td>2017587.000</td>\n",
       "    </tr>\n",
       "  </tbody>\n",
       "</table>\n",
       "</div>"
      ],
      "text/plain": [
       "                    Quantity\n",
       "Country or Area             \n",
       "United States    8518140.000\n",
       "China            4017168.252\n",
       "Japan            2615258.000\n",
       "Germany          2363351.000\n",
       "India            2017587.000"
      ]
     },
     "execution_count": 7,
     "metadata": {},
     "output_type": "execute_result"
    }
   ],
   "source": [
    "#What are the  top five Countries for the most gas oil production and consumption for all past years ?.\n",
    "\n",
    "comp = gdf['Commodity - Transaction'] == 'Gas Oil/ Diesel Oil - Final consumption'\n",
    "product = gdf['Commodity - Transaction'] ==  'Gas Oil/ Diesel Oil - Production'\n",
    "gdshow = gdf[['Country or Area','Quantity']] [( (comp) | (product) )].groupby(by = 'Country or Area').sum()\n",
    "gdtopfive =  gdshow.sort_values(by='Quantity', axis = 0,ascending = False)\n",
    "gdtopfive.head(5)"
   ]
  },
  {
   "cell_type": "code",
   "execution_count": 8,
   "metadata": {
    "collapsed": false
   },
   "outputs": [
    {
     "data": {
      "text/plain": [
       "array([ 2013.,  2012.,  2011.,  2010.,  2009.,  2008.,  2007.,  2006.,\n",
       "        2005.,  2004.,  2003.,  2002.,  2001.,  2000.,  1999.,  1998.,\n",
       "        1997.,  1996.,  1995.,  1994.,  1993.,  1992.,  1991.,  1990.])"
      ]
     },
     "execution_count": 8,
     "metadata": {},
     "output_type": "execute_result"
    }
   ],
   "source": [
    "gdf['Year'].unique()"
   ]
  },
  {
   "cell_type": "code",
   "execution_count": 9,
   "metadata": {
    "collapsed": false
   },
   "outputs": [
    {
     "data": {
      "text/html": [
       "<div>\n",
       "<table border=\"1\" class=\"dataframe\">\n",
       "  <thead>\n",
       "    <tr style=\"text-align: right;\">\n",
       "      <th></th>\n",
       "      <th>Quantity</th>\n",
       "    </tr>\n",
       "    <tr>\n",
       "      <th>Year</th>\n",
       "      <th></th>\n",
       "    </tr>\n",
       "  </thead>\n",
       "  <tbody>\n",
       "    <tr>\n",
       "      <th>2013</th>\n",
       "      <td>2508140.561756</td>\n",
       "    </tr>\n",
       "    <tr>\n",
       "      <th>2012</th>\n",
       "      <td>2488127.313808</td>\n",
       "    </tr>\n",
       "    <tr>\n",
       "      <th>2011</th>\n",
       "      <td>2439283.027778</td>\n",
       "    </tr>\n",
       "    <tr>\n",
       "      <th>2010</th>\n",
       "      <td>2380949.541262</td>\n",
       "    </tr>\n",
       "    <tr>\n",
       "      <th>2008</th>\n",
       "      <td>2369557.497083</td>\n",
       "    </tr>\n",
       "    <tr>\n",
       "      <th>2009</th>\n",
       "      <td>2321601.491304</td>\n",
       "    </tr>\n",
       "    <tr>\n",
       "      <th>2007</th>\n",
       "      <td>2292060.706308</td>\n",
       "    </tr>\n",
       "    <tr>\n",
       "      <th>2006</th>\n",
       "      <td>2244566.261720</td>\n",
       "    </tr>\n",
       "    <tr>\n",
       "      <th>2005</th>\n",
       "      <td>2205362.210919</td>\n",
       "    </tr>\n",
       "    <tr>\n",
       "      <th>2004</th>\n",
       "      <td>2153182.772229</td>\n",
       "    </tr>\n",
       "    <tr>\n",
       "      <th>2003</th>\n",
       "      <td>2061247.417228</td>\n",
       "    </tr>\n",
       "  </tbody>\n",
       "</table>\n",
       "</div>"
      ],
      "text/plain": [
       "            Quantity\n",
       "Year                \n",
       "2013  2508140.561756\n",
       "2012  2488127.313808\n",
       "2011  2439283.027778\n",
       "2010  2380949.541262\n",
       "2008  2369557.497083\n",
       "2009  2321601.491304\n",
       "2007  2292060.706308\n",
       "2006  2244566.261720\n",
       "2005  2205362.210919\n",
       "2004  2153182.772229\n",
       "2003  2061247.417228"
      ]
     },
     "execution_count": 9,
     "metadata": {},
     "output_type": "execute_result"
    }
   ],
   "source": [
    "#Bring the last ten years data for the total gas/diesel oil production and consumption\n",
    "\n",
    "temp = gdf[ ((comp) | (product)) ].groupby (by = 'Year').sum()\n",
    "gdlast=temp.sort_values(by='Quantity',ascending = False)\n",
    "gdlast.head(11)"
   ]
  },
  {
   "cell_type": "code",
   "execution_count": 10,
   "metadata": {
    "collapsed": false
   },
   "outputs": [
    {
     "data": {
      "text/plain": [
       "86818         United States\n",
       "15458                 China\n",
       "37685                 India\n",
       "68511    Russian Federation\n",
       "10636                Brazil\n",
       "Name: Country or Area, dtype: object"
      ]
     },
     "execution_count": 10,
     "metadata": {},
     "output_type": "execute_result"
    }
   ],
   "source": [
    "#Bring on the last five years, top five Countries data for the gas/diesel oil production and consumption.\n",
    "\n",
    "g1=gdf.sort_values(by='Year',ascending = False)\n",
    "g_qt_max_order= g1.sort_values (by='Quantity',ascending = False)\n",
    "g3 = g_qt_max_order['Country or Area'].drop_duplicates()  [(g_qt_max_order['Year'] > 2008 ) & ((comp) | (product)) ]\n",
    "g3.head(5)"
   ]
  },
  {
   "cell_type": "code",
   "execution_count": 11,
   "metadata": {
    "collapsed": false
   },
   "outputs": [
    {
     "data": {
      "text/html": [
       "<div>\n",
       "<table border=\"1\" class=\"dataframe\">\n",
       "  <thead>\n",
       "    <tr style=\"text-align: right;\">\n",
       "      <th></th>\n",
       "      <th>Quantity</th>\n",
       "    </tr>\n",
       "    <tr>\n",
       "      <th>Country or Area</th>\n",
       "      <th></th>\n",
       "    </tr>\n",
       "  </thead>\n",
       "  <tbody>\n",
       "    <tr>\n",
       "      <th>United States</th>\n",
       "      <td>4518903.0</td>\n",
       "    </tr>\n",
       "    <tr>\n",
       "      <th>China</th>\n",
       "      <td>2142713.3</td>\n",
       "    </tr>\n",
       "    <tr>\n",
       "      <th>Japan</th>\n",
       "      <td>1375450.0</td>\n",
       "    </tr>\n",
       "    <tr>\n",
       "      <th>Russian Federation</th>\n",
       "      <td>1305744.0</td>\n",
       "    </tr>\n",
       "    <tr>\n",
       "      <th>India</th>\n",
       "      <td>1106277.0</td>\n",
       "    </tr>\n",
       "  </tbody>\n",
       "</table>\n",
       "</div>"
      ],
      "text/plain": [
       "                     Quantity\n",
       "Country or Area              \n",
       "United States       4518903.0\n",
       "China               2142713.3\n",
       "Japan               1375450.0\n",
       "Russian Federation  1305744.0\n",
       "India               1106277.0"
      ]
     },
     "execution_count": 11,
     "metadata": {},
     "output_type": "execute_result"
    }
   ],
   "source": [
    "#Bring the top five Countries data for the gas/diesel oil production and transformation.\n",
    "\n",
    "gtf = g_qt_max_order['Commodity - Transaction'] == 'Gas Oil/ Diesel Oil - Transformation'\n",
    "gtemp=g_qt_max_order[['Country or Area','Quantity']] [(gtf) | (product)].groupby(by = 'Country or Area').sum()\n",
    "gtopmaxtrm=gtemp.sort_values(by='Quantity',ascending = False)\n",
    "gtopmaxtrm.head(5)"
   ]
  },
  {
   "cell_type": "code",
   "execution_count": 12,
   "metadata": {
    "collapsed": false
   },
   "outputs": [
    {
     "data": {
      "text/plain": [
       "Country or Area\n",
       "United States    5060695.000\n",
       "China            3137689.252\n",
       "India            1442850.000\n",
       "Japan            1316373.000\n",
       "Germany          1301953.000\n",
       "Name: Quantity, dtype: float64"
      ]
     },
     "execution_count": 12,
     "metadata": {},
     "output_type": "execute_result"
    }
   ],
   "source": [
    "# After 2000 , bring the top five Countries data for the gas/diesel oil production and consumption.\n",
    "\n",
    "gtemp=g_qt_max_order[ ( (g_qt_max_order['Year'] > 2000 ) & ((product) | (comp)) ) ].groupby(by='Country or Area').sum()\n",
    "gtop2000 = gtemp.sort_values(by='Quantity',ascending = False)\n",
    "gtop2000['Quantity'].head(5)"
   ]
  },
  {
   "cell_type": "code",
   "execution_count": 13,
   "metadata": {
    "collapsed": false
   },
   "outputs": [
    {
     "data": {
      "text/html": [
       "<div>\n",
       "<table border=\"1\" class=\"dataframe\">\n",
       "  <thead>\n",
       "    <tr style=\"text-align: right;\">\n",
       "      <th></th>\n",
       "      <th>Country or Area</th>\n",
       "      <th>Year</th>\n",
       "      <th>Value</th>\n",
       "    </tr>\n",
       "  </thead>\n",
       "  <tbody>\n",
       "    <tr>\n",
       "      <th>0</th>\n",
       "      <td>Afghanistan</td>\n",
       "      <td>2011</td>\n",
       "      <td>12251.447</td>\n",
       "    </tr>\n",
       "    <tr>\n",
       "      <th>1</th>\n",
       "      <td>Afghanistan</td>\n",
       "      <td>2010</td>\n",
       "      <td>8470.770</td>\n",
       "    </tr>\n",
       "    <tr>\n",
       "      <th>2</th>\n",
       "      <td>Afghanistan</td>\n",
       "      <td>2009</td>\n",
       "      <td>6776.616</td>\n",
       "    </tr>\n",
       "    <tr>\n",
       "      <th>3</th>\n",
       "      <td>Afghanistan</td>\n",
       "      <td>2008</td>\n",
       "      <td>4217.050</td>\n",
       "    </tr>\n",
       "    <tr>\n",
       "      <th>4</th>\n",
       "      <td>Afghanistan</td>\n",
       "      <td>2007</td>\n",
       "      <td>2280.874</td>\n",
       "    </tr>\n",
       "  </tbody>\n",
       "</table>\n",
       "</div>"
      ],
      "text/plain": [
       "  Country or Area  Year      Value\n",
       "0     Afghanistan  2011  12251.447\n",
       "1     Afghanistan  2010   8470.770\n",
       "2     Afghanistan  2009   6776.616\n",
       "3     Afghanistan  2008   4217.050\n",
       "4     Afghanistan  2007   2280.874"
      ]
     },
     "execution_count": 13,
     "metadata": {},
     "output_type": "execute_result"
    }
   ],
   "source": [
    "#Bring the carbon emission dataset and prepare it for analysis.\n",
    "\n",
    "carbon_ems1 = carbon_ems.drop('Value Footnotes',axis=1)\n",
    "carbon_ems1.head()"
   ]
  },
  {
   "cell_type": "code",
   "execution_count": 14,
   "metadata": {
    "collapsed": false
   },
   "outputs": [
    {
     "data": {
      "text/html": [
       "<div>\n",
       "<table border=\"1\" class=\"dataframe\">\n",
       "  <thead>\n",
       "    <tr style=\"text-align: right;\">\n",
       "      <th></th>\n",
       "      <th>Value</th>\n",
       "    </tr>\n",
       "    <tr>\n",
       "      <th>Year</th>\n",
       "      <th></th>\n",
       "    </tr>\n",
       "  </thead>\n",
       "  <tbody>\n",
       "    <tr>\n",
       "      <th>2011</th>\n",
       "      <td>32425572.178</td>\n",
       "    </tr>\n",
       "    <tr>\n",
       "      <th>2010</th>\n",
       "      <td>31347114.812</td>\n",
       "    </tr>\n",
       "    <tr>\n",
       "      <th>2009</th>\n",
       "      <td>29943944.596</td>\n",
       "    </tr>\n",
       "    <tr>\n",
       "      <th>2008</th>\n",
       "      <td>30022180.041</td>\n",
       "    </tr>\n",
       "    <tr>\n",
       "      <th>2007</th>\n",
       "      <td>29494069.702</td>\n",
       "    </tr>\n",
       "    <tr>\n",
       "      <th>2006</th>\n",
       "      <td>28725206.145</td>\n",
       "    </tr>\n",
       "    <tr>\n",
       "      <th>2005</th>\n",
       "      <td>27771775.144</td>\n",
       "    </tr>\n",
       "    <tr>\n",
       "      <th>2004</th>\n",
       "      <td>27021752.633</td>\n",
       "    </tr>\n",
       "    <tr>\n",
       "      <th>2003</th>\n",
       "      <td>25724760.402</td>\n",
       "    </tr>\n",
       "    <tr>\n",
       "      <th>2002</th>\n",
       "      <td>24360225.698</td>\n",
       "    </tr>\n",
       "    <tr>\n",
       "      <th>2001</th>\n",
       "      <td>23994090.416</td>\n",
       "    </tr>\n",
       "  </tbody>\n",
       "</table>\n",
       "</div>"
      ],
      "text/plain": [
       "             Value\n",
       "Year              \n",
       "2011  32425572.178\n",
       "2010  31347114.812\n",
       "2009  29943944.596\n",
       "2008  30022180.041\n",
       "2007  29494069.702\n",
       "2006  28725206.145\n",
       "2005  27771775.144\n",
       "2004  27021752.633\n",
       "2003  25724760.402\n",
       "2002  24360225.698\n",
       "2001  23994090.416"
      ]
     },
     "execution_count": 14,
     "metadata": {},
     "output_type": "execute_result"
    }
   ],
   "source": [
    "# Bring on the last ten years, total co2 emission data for all countries.\n",
    "\n",
    "temp=carbon_ems1.groupby(by='Year').sum()\n",
    "totalco2=temp.sort_index(axis = 0,ascending = False)\n",
    "totalco2.iloc[0:11]"
   ]
  },
  {
   "cell_type": "code",
   "execution_count": 15,
   "metadata": {
    "collapsed": false
   },
   "outputs": [
    {
     "data": {
      "text/html": [
       "<div>\n",
       "<table border=\"1\" class=\"dataframe\">\n",
       "  <thead>\n",
       "    <tr style=\"text-align: right;\">\n",
       "      <th></th>\n",
       "      <th>Value</th>\n",
       "    </tr>\n",
       "    <tr>\n",
       "      <th>Country or Area</th>\n",
       "      <th></th>\n",
       "    </tr>\n",
       "  </thead>\n",
       "  <tbody>\n",
       "    <tr>\n",
       "      <th>China</th>\n",
       "      <td>38795946.917</td>\n",
       "    </tr>\n",
       "    <tr>\n",
       "      <th>United States</th>\n",
       "      <td>27405958.891</td>\n",
       "    </tr>\n",
       "    <tr>\n",
       "      <th>India</th>\n",
       "      <td>9395389.382</td>\n",
       "    </tr>\n",
       "    <tr>\n",
       "      <th>Russian Federation</th>\n",
       "      <td>8508217.404</td>\n",
       "    </tr>\n",
       "    <tr>\n",
       "      <th>Japan</th>\n",
       "      <td>5915094.687</td>\n",
       "    </tr>\n",
       "  </tbody>\n",
       "</table>\n",
       "</div>"
      ],
      "text/plain": [
       "                           Value\n",
       "Country or Area                 \n",
       "China               38795946.917\n",
       "United States       27405958.891\n",
       "India                9395389.382\n",
       "Russian Federation   8508217.404\n",
       "Japan                5915094.687"
      ]
     },
     "execution_count": 15,
     "metadata": {},
     "output_type": "execute_result"
    }
   ],
   "source": [
    "#Bring on the last five years,top five co2 emission data for the countries. \n",
    "\n",
    "temp = carbon_ems1 [carbon_ems1['Year']>2006].groupby(by='Country or Area').sum()\n",
    "temp1=temp.drop('Year',axis=1)\n",
    "top5co2=temp1.sort_values(by='Value',ascending =False)\n",
    "top5co2.head(5)"
   ]
  },
  {
   "cell_type": "code",
   "execution_count": 16,
   "metadata": {
    "collapsed": false
   },
   "outputs": [
    {
     "data": {
      "text/html": [
       "<div>\n",
       "<table border=\"1\" class=\"dataframe\">\n",
       "  <thead>\n",
       "    <tr style=\"text-align: right;\">\n",
       "      <th></th>\n",
       "      <th>Value</th>\n",
       "    </tr>\n",
       "    <tr>\n",
       "      <th>Country or Area</th>\n",
       "      <th></th>\n",
       "    </tr>\n",
       "  </thead>\n",
       "  <tbody>\n",
       "    <tr>\n",
       "      <th>China</th>\n",
       "      <td>67995578.521</td>\n",
       "    </tr>\n",
       "    <tr>\n",
       "      <th>United States</th>\n",
       "      <td>61597803.958</td>\n",
       "    </tr>\n",
       "    <tr>\n",
       "      <th>Russian Federation</th>\n",
       "      <td>18117110.527</td>\n",
       "    </tr>\n",
       "    <tr>\n",
       "      <th>India</th>\n",
       "      <td>17371954.125</td>\n",
       "    </tr>\n",
       "    <tr>\n",
       "      <th>Japan</th>\n",
       "      <td>13299196.908</td>\n",
       "    </tr>\n",
       "  </tbody>\n",
       "</table>\n",
       "</div>"
      ],
      "text/plain": [
       "                           Value\n",
       "Country or Area                 \n",
       "China               67995578.521\n",
       "United States       61597803.958\n",
       "Russian Federation  18117110.527\n",
       "India               17371954.125\n",
       "Japan               13299196.908"
      ]
     },
     "execution_count": 16,
     "metadata": {},
     "output_type": "execute_result"
    }
   ],
   "source": [
    "#Bring on the last ten years,top five co2 emission data for the countries.\n",
    "\n",
    "temp = carbon_ems1 [carbon_ems1['Year']>2000].groupby(by='Country or Area').sum()\n",
    "temp1=temp.drop('Year',axis=1)\n",
    "top5last10co2=temp1.sort_values(by='Value',ascending =False)\n",
    "top5last10co2.head(5)"
   ]
  },
  {
   "cell_type": "markdown",
   "metadata": {},
   "source": [
    "# Combining the Results\n",
    "\n",
    "With this purpose, I created a three dataframe with csv format.I used to csv format file because of\n",
    "according to lead developer of Pandas package  Mr. McKinney ; csv files are better than other files for fast data processing.First  dataframe \"topgasdf\" is about gas/diesel oil quantity values , second dataframe  \"last10co2gas\" shows carbon dioxide emission and gas/diesel oil production and consumption relationships according to last ten years and third dataframe \n",
    "\"countrytop5co2gas\" shows top co2 emission values for last five years with the matching countries."
   ]
  },
  {
   "cell_type": "code",
   "execution_count": 17,
   "metadata": {
    "collapsed": false
   },
   "outputs": [
    {
     "data": {
      "text/html": [
       "<div>\n",
       "<table border=\"1\" class=\"dataframe\">\n",
       "  <thead>\n",
       "    <tr style=\"text-align: right;\">\n",
       "      <th></th>\n",
       "      <th>Countries</th>\n",
       "      <th>TopFiveProdConsAllYears</th>\n",
       "      <th>TopFiveCountryProdConsLastFiveYears</th>\n",
       "      <th>TopFiveProdTrfmAllYears</th>\n",
       "      <th>TopFiveProdCons2000</th>\n",
       "    </tr>\n",
       "  </thead>\n",
       "  <tbody>\n",
       "    <tr>\n",
       "      <th>0</th>\n",
       "      <td>United States</td>\n",
       "      <td>8518140.000</td>\n",
       "      <td>United States</td>\n",
       "      <td>4518903.0</td>\n",
       "      <td>5060695.000</td>\n",
       "    </tr>\n",
       "    <tr>\n",
       "      <th>1</th>\n",
       "      <td>China</td>\n",
       "      <td>4017168.252</td>\n",
       "      <td>China</td>\n",
       "      <td>2142713.3</td>\n",
       "      <td>3137689.252</td>\n",
       "    </tr>\n",
       "    <tr>\n",
       "      <th>2</th>\n",
       "      <td>Japan</td>\n",
       "      <td>2615258.000</td>\n",
       "      <td>India</td>\n",
       "      <td>1375450.0</td>\n",
       "      <td>1316373.000</td>\n",
       "    </tr>\n",
       "    <tr>\n",
       "      <th>3</th>\n",
       "      <td>Germany</td>\n",
       "      <td>2363351.000</td>\n",
       "      <td>Russian Federation</td>\n",
       "      <td>NaN</td>\n",
       "      <td>1301953.000</td>\n",
       "    </tr>\n",
       "    <tr>\n",
       "      <th>4</th>\n",
       "      <td>India</td>\n",
       "      <td>2017587.000</td>\n",
       "      <td>Brazil</td>\n",
       "      <td>1106277.0</td>\n",
       "      <td>1442850.000</td>\n",
       "    </tr>\n",
       "    <tr>\n",
       "      <th>5</th>\n",
       "      <td>Russian Federation</td>\n",
       "      <td>NaN</td>\n",
       "      <td>NaN</td>\n",
       "      <td>1375450.0</td>\n",
       "      <td>NaN</td>\n",
       "    </tr>\n",
       "  </tbody>\n",
       "</table>\n",
       "</div>"
      ],
      "text/plain": [
       "            Countries  TopFiveProdConsAllYears  \\\n",
       "0       United States              8518140.000   \n",
       "1               China              4017168.252   \n",
       "2               Japan              2615258.000   \n",
       "3             Germany              2363351.000   \n",
       "4               India              2017587.000   \n",
       "5  Russian Federation                      NaN   \n",
       "\n",
       "  TopFiveCountryProdConsLastFiveYears  TopFiveProdTrfmAllYears  \\\n",
       "0                       United States                4518903.0   \n",
       "1                               China                2142713.3   \n",
       "2                               India                1375450.0   \n",
       "3                  Russian Federation                      NaN   \n",
       "4                              Brazil                1106277.0   \n",
       "5                                 NaN                1375450.0   \n",
       "\n",
       "   TopFiveProdCons2000  \n",
       "0          5060695.000  \n",
       "1          3137689.252  \n",
       "2          1316373.000  \n",
       "3          1301953.000  \n",
       "4          1442850.000  \n",
       "5                  NaN  "
      ]
     },
     "execution_count": 17,
     "metadata": {},
     "output_type": "execute_result"
    }
   ],
   "source": [
    "topgasdf = pd.read_csv(r'C:\\Users\\osman\\Desktop\\data scientist\\pandas portfolio\\topgas.csv')\n",
    "topgasdf.drop('Unnamed: 5',axis=1)"
   ]
  },
  {
   "cell_type": "code",
   "execution_count": 18,
   "metadata": {
    "collapsed": false
   },
   "outputs": [
    {
     "data": {
      "text/html": [
       "<div>\n",
       "<table border=\"1\" class=\"dataframe\">\n",
       "  <thead>\n",
       "    <tr style=\"text-align: right;\">\n",
       "      <th></th>\n",
       "      <th>Year</th>\n",
       "      <th>co2emission</th>\n",
       "      <th>gasprodcons</th>\n",
       "    </tr>\n",
       "  </thead>\n",
       "  <tbody>\n",
       "    <tr>\n",
       "      <th>0</th>\n",
       "      <td>2013</td>\n",
       "      <td>32425572.178</td>\n",
       "      <td>2508140.561756</td>\n",
       "    </tr>\n",
       "    <tr>\n",
       "      <th>1</th>\n",
       "      <td>2012</td>\n",
       "      <td>31347114.812</td>\n",
       "      <td>2488127.313808</td>\n",
       "    </tr>\n",
       "    <tr>\n",
       "      <th>2</th>\n",
       "      <td>2011</td>\n",
       "      <td>29943944.596</td>\n",
       "      <td>2439283.027778</td>\n",
       "    </tr>\n",
       "    <tr>\n",
       "      <th>3</th>\n",
       "      <td>2010</td>\n",
       "      <td>30022180.041</td>\n",
       "      <td>2380949.541262</td>\n",
       "    </tr>\n",
       "    <tr>\n",
       "      <th>4</th>\n",
       "      <td>2009</td>\n",
       "      <td>29494069.702</td>\n",
       "      <td>2369557.497083</td>\n",
       "    </tr>\n",
       "    <tr>\n",
       "      <th>5</th>\n",
       "      <td>2008</td>\n",
       "      <td>28725206.145</td>\n",
       "      <td>2321601.491304</td>\n",
       "    </tr>\n",
       "    <tr>\n",
       "      <th>6</th>\n",
       "      <td>2007</td>\n",
       "      <td>27771775.144</td>\n",
       "      <td>2292060.706308</td>\n",
       "    </tr>\n",
       "    <tr>\n",
       "      <th>7</th>\n",
       "      <td>2006</td>\n",
       "      <td>27021752.633</td>\n",
       "      <td>2244566.261720</td>\n",
       "    </tr>\n",
       "    <tr>\n",
       "      <th>8</th>\n",
       "      <td>2005</td>\n",
       "      <td>25724760.402</td>\n",
       "      <td>2205362.210919</td>\n",
       "    </tr>\n",
       "    <tr>\n",
       "      <th>9</th>\n",
       "      <td>2004</td>\n",
       "      <td>24360225.698</td>\n",
       "      <td>2153182.772229</td>\n",
       "    </tr>\n",
       "    <tr>\n",
       "      <th>10</th>\n",
       "      <td>2003</td>\n",
       "      <td>23994090.416</td>\n",
       "      <td>2061247.417228</td>\n",
       "    </tr>\n",
       "  </tbody>\n",
       "</table>\n",
       "</div>"
      ],
      "text/plain": [
       "    Year   co2emission     gasprodcons\n",
       "0   2013  32425572.178  2508140.561756\n",
       "1   2012  31347114.812  2488127.313808\n",
       "2   2011  29943944.596  2439283.027778\n",
       "3   2010  30022180.041  2380949.541262\n",
       "4   2009  29494069.702  2369557.497083\n",
       "5   2008  28725206.145  2321601.491304\n",
       "6   2007  27771775.144  2292060.706308\n",
       "7   2006  27021752.633  2244566.261720\n",
       "8   2005  25724760.402  2205362.210919\n",
       "9   2004  24360225.698  2153182.772229\n",
       "10  2003  23994090.416  2061247.417228"
      ]
     },
     "execution_count": 18,
     "metadata": {},
     "output_type": "execute_result"
    }
   ],
   "source": [
    "last10co2gas =   pd.read_csv(r'C:\\Users\\osman\\Desktop\\data scientist\\pandas portfolio\\last10co2gas.csv')\n",
    "last10co2gas.drop('Unnamed: 3',axis = 1)"
   ]
  },
  {
   "cell_type": "code",
   "execution_count": 19,
   "metadata": {
    "collapsed": false
   },
   "outputs": [
    {
     "data": {
      "text/html": [
       "<div>\n",
       "<table border=\"1\" class=\"dataframe\">\n",
       "  <thead>\n",
       "    <tr style=\"text-align: right;\">\n",
       "      <th></th>\n",
       "      <th>Country</th>\n",
       "      <th>last5yearstop5co2em</th>\n",
       "      <th>last10yearstop5co2em</th>\n",
       "    </tr>\n",
       "  </thead>\n",
       "  <tbody>\n",
       "    <tr>\n",
       "      <th>0</th>\n",
       "      <td>China</td>\n",
       "      <td>38795946.917</td>\n",
       "      <td>67995578.521</td>\n",
       "    </tr>\n",
       "    <tr>\n",
       "      <th>1</th>\n",
       "      <td>United States</td>\n",
       "      <td>27405958.891</td>\n",
       "      <td>61597803.958</td>\n",
       "    </tr>\n",
       "    <tr>\n",
       "      <th>2</th>\n",
       "      <td>India</td>\n",
       "      <td>9395389.382</td>\n",
       "      <td>17371954.125</td>\n",
       "    </tr>\n",
       "    <tr>\n",
       "      <th>3</th>\n",
       "      <td>Russian Federation</td>\n",
       "      <td>8508217.404</td>\n",
       "      <td>18117110.527</td>\n",
       "    </tr>\n",
       "    <tr>\n",
       "      <th>4</th>\n",
       "      <td>Japan</td>\n",
       "      <td>5915094.687</td>\n",
       "      <td>13299196.908</td>\n",
       "    </tr>\n",
       "  </tbody>\n",
       "</table>\n",
       "</div>"
      ],
      "text/plain": [
       "              Country  last5yearstop5co2em  last10yearstop5co2em\n",
       "0               China         38795946.917          67995578.521\n",
       "1       United States         27405958.891          61597803.958\n",
       "2               India          9395389.382          17371954.125\n",
       "3  Russian Federation          8508217.404          18117110.527\n",
       "4               Japan          5915094.687          13299196.908"
      ]
     },
     "execution_count": 19,
     "metadata": {},
     "output_type": "execute_result"
    }
   ],
   "source": [
    "countrytop5co2gas =   pd.read_csv(r'C:\\Users\\osman\\Desktop\\data scientist\\pandas portfolio\\co2gas.csv')\n",
    "countrytop5co2gas.drop('Unnamed: 3',axis = 1)"
   ]
  },
  {
   "cell_type": "markdown",
   "metadata": {},
   "source": [
    "# Data Visualization and Summary Reports\n",
    "\n",
    "In this section , I used to Seaborn visual package for fast and efficient visualization.This package has useful and practical options for business,academic or any other data science projects.First bar chart illustrates top five countries  are with gas/diesel oil production for all years,second top five countries are with production and transform for all years and third ..."
   ]
  },
  {
   "cell_type": "code",
   "execution_count": 20,
   "metadata": {
    "collapsed": false
   },
   "outputs": [
    {
     "name": "stderr",
     "output_type": "stream",
     "text": [
      ":0: FutureWarning: IPython widgets are experimental and may change in the future.\n"
     ]
    }
   ],
   "source": [
    "import seaborn as sns\n",
    "sns.set(rc={\"figure.figsize\": (6, 6)})\n",
    "np.random.seed(sum(map(ord, \"palettes\")))"
   ]
  },
  {
   "cell_type": "code",
   "execution_count": 21,
   "metadata": {
    "collapsed": false
   },
   "outputs": [
    {
     "data": {
      "text/plain": [
       "<matplotlib.axes._subplots.AxesSubplot at 0xa31af60>"
      ]
     },
     "execution_count": 21,
     "metadata": {},
     "output_type": "execute_result"
    },
    {
     "data": {
      "image/png": "[encoded data removed]",
      "text/plain": [
       "<matplotlib.figure.Figure at 0x856db38>"
      ]
     },
     "metadata": {},
     "output_type": "display_data"
    }
   ],
   "source": [
    "sns.barplot(x='Countries',y='TopFiveProdConsAllYears',data=topgasdf )"
   ]
  },
  {
   "cell_type": "code",
   "execution_count": 22,
   "metadata": {
    "collapsed": false
   },
   "outputs": [
    {
     "data": {
      "text/plain": [
       "<matplotlib.axes._subplots.AxesSubplot at 0xa404a90>"
      ]
     },
     "execution_count": 22,
     "metadata": {},
     "output_type": "execute_result"
    },
    {
     "data": {
      "image/png": "[encoded data removed]",
      "text/plain": [
       "<matplotlib.figure.Figure at 0xa3dfdd8>"
      ]
     },
     "metadata": {},
     "output_type": "display_data"
    }
   ],
   "source": [
    "#After year 2000,top five gas/diesel oil production and consumption for countries.\n",
    "\n",
    "sns.barplot(y='TopFiveProdCons2000',x='Countries',data=topgasdf )\n",
    "\n",
    "#TopFiveCountryProdConsLastFiveYears>>US,China,India,Russia,Brazil"
   ]
  },
  {
   "cell_type": "code",
   "execution_count": 23,
   "metadata": {
    "collapsed": false
   },
   "outputs": [
    {
     "data": {
      "text/plain": [
       "<matplotlib.axes._subplots.AxesSubplot at 0xa7654a8>"
      ]
     },
     "execution_count": 23,
     "metadata": {},
     "output_type": "execute_result"
    },
    {
     "data": {
      "image/png": "[encoded data removed]",
      "text/plain": [
       "<matplotlib.figure.Figure at 0xa76d320>"
      ]
     },
     "metadata": {},
     "output_type": "display_data"
    }
   ],
   "source": [
    "#Top five countries with the Gas/Diesel oil production and transformation for past all years.\n",
    "#At here,Russian Federation calls to attention.\n",
    "\n",
    "sns.barplot(y='TopFiveProdTrfmAllYears',x='Countries',data=topgasdf )"
   ]
  },
  {
   "cell_type": "code",
   "execution_count": 24,
   "metadata": {
    "collapsed": false
   },
   "outputs": [
    {
     "data": {
      "text/plain": [
       "<seaborn.axisgrid.JointGrid at 0xa7600b8>"
      ]
     },
     "execution_count": 24,
     "metadata": {},
     "output_type": "execute_result"
    },
    {
     "data": {
      "image/png": "[encoded data removed]",
      "text/plain": [
       "<matplotlib.figure.Figure at 0xa7f1358>"
      ]
     },
     "metadata": {},
     "output_type": "display_data"
    }
   ],
   "source": [
    "#Co2 emission and gas/diesel oil production and consumption scatter plot.At the recently years, linear relationship just \n",
    "#a little broke up to gas production-consumption side.This is a good signal for reducing co2 emission.\n",
    "\n",
    "sns.jointplot(x='co2emission',y='gasprodcons',data =last10co2gas )"
   ]
  },
  {
   "cell_type": "code",
   "execution_count": 25,
   "metadata": {
    "collapsed": false
   },
   "outputs": [
    {
     "data": {
      "text/plain": [
       "<matplotlib.axes._subplots.AxesSubplot at 0xa9a4160>"
      ]
     },
     "execution_count": 25,
     "metadata": {},
     "output_type": "execute_result"
    },
    {
     "data": {
      "image/png": "[encoded data removed]",
      "text/plain": [
       "<matplotlib.figure.Figure at 0xa848cf8>"
      ]
     },
     "metadata": {},
     "output_type": "display_data"
    }
   ],
   "source": [
    "# Multiple bar chart shows the variation of Co2 emission on the last years to until 2014.\n",
    "\n",
    "sns.barplot(x='Year',y='co2emission',data =last10co2gas )"
   ]
  },
  {
   "cell_type": "code",
   "execution_count": 26,
   "metadata": {
    "collapsed": false
   },
   "outputs": [
    {
     "data": {
      "text/plain": [
       "<matplotlib.axes._subplots.AxesSubplot at 0xa9b8898>"
      ]
     },
     "execution_count": 26,
     "metadata": {},
     "output_type": "execute_result"
    },
    {
     "data": {
      "image/png": "[encoded data removed]",
      "text/plain": [
       "<matplotlib.figure.Figure at 0xa4186a0>"
      ]
     },
     "metadata": {},
     "output_type": "display_data"
    }
   ],
   "source": [
    "#On the last 10 years  top five countries with co2 emission  values.\n",
    "\n",
    "sns.barplot(x='Country',y='last10yearstop5co2em',data =countrytop5co2gas )"
   ]
  },
  {
   "cell_type": "code",
   "execution_count": 27,
   "metadata": {
    "collapsed": false
   },
   "outputs": [
    {
     "data": {
      "text/plain": [
       "<matplotlib.axes._subplots.AxesSubplot at 0xaa75630>"
      ]
     },
     "execution_count": 27,
     "metadata": {},
     "output_type": "execute_result"
    },
    {
     "data": {
      "image/png": "[encoded data removed]",
      "text/plain": [
       "<matplotlib.figure.Figure at 0xaa7fdd8>"
      ]
     },
     "metadata": {},
     "output_type": "display_data"
    }
   ],
   "source": [
    "#On the last 10 years  top five countries with co2 emission  values\n",
    "\n",
    "sns.barplot(x='Country',y='last5yearstop5co2em',data =countrytop5co2gas )"
   ]
  },
  {
   "cell_type": "markdown",
   "metadata": {},
   "source": [
    "# Final Evaluation\n",
    "\n",
    "*After year 2000, India significantly  has increased to Gas/diesel production and consumption according to Germany \n",
    "and Japan.Maybe for India , air pollution test analysis by a expert  might be a good idea.\n",
    "\n",
    "*United States made a good improvement for reducing co2 emission on recently years.Maybe other countries can use USA's battle method with co2 emission.\n",
    "\n",
    "*After year 2008, co2 emission lost its speed.This is a good signal.\n",
    "Do not attach to 2012 and 13 years.I have just made a little fit for null values.\n",
    "\n",
    "*Finally China, has a big problem  and deal with co2 emission.But also other factors can affect to co2 emission.As i mentioned before that I am not a meteorology expert.It is just a portfolio working do not take seriously.\n",
    "\n",
    "In this project for data analysis I reviewed to 95 thousand rows closely.I used to Python ve Pandas's advanced features for efficient and fast analysis.\n",
    "Our World needs more and more data  and data science projects.I think,  we can change to our future brightly.And for this purpose United Nations are doing avesome things like Data Science challenge and competitions."
   ]
  },
  {
   "cell_type": "code",
   "execution_count": null,
   "metadata": {
    "collapsed": true
   },
   "outputs": [],
   "source": []
  }
 ],
 "metadata": {
  "kernelspec": {
   "display_name": "Python 3",
   "language": "python",
   "name": "python3"
  },
  "language_info": {
   "codemirror_mode": {
    "name": "ipython",
    "version": 3
   },
   "file_extension": ".py",
   "mimetype": "text/x-python",
   "name": "python",
   "nbconvert_exporter": "python",
   "pygments_lexer": "ipython3",
   "version": "3.4.4"
  }
 },
 "nbformat": 4,
 "nbformat_minor": 0
}
